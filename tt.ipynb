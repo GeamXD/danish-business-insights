{
 "cells": [
  {
   "cell_type": "code",
   "execution_count": 1,
   "metadata": {},
   "outputs": [],
   "source": [
    "import pandas as pd"
   ]
  },
  {
   "cell_type": "code",
   "execution_count": 2,
   "metadata": {},
   "outputs": [],
   "source": [
    "df =  pd.read_csv('final_output.csv')"
   ]
  },
  {
   "cell_type": "code",
   "execution_count": 3,
   "metadata": {},
   "outputs": [
    {
     "data": {
      "text/html": [
       "<div>\n",
       "<style scoped>\n",
       "    .dataframe tbody tr th:only-of-type {\n",
       "        vertical-align: middle;\n",
       "    }\n",
       "\n",
       "    .dataframe tbody tr th {\n",
       "        vertical-align: top;\n",
       "    }\n",
       "\n",
       "    .dataframe thead th {\n",
       "        text-align: right;\n",
       "    }\n",
       "</style>\n",
       "<table border=\"1\" class=\"dataframe\">\n",
       "  <thead>\n",
       "    <tr style=\"text-align: right;\">\n",
       "      <th></th>\n",
       "      <th>cvr_nummer</th>\n",
       "      <th>navn</th>\n",
       "      <th>kommune_navn</th>\n",
       "      <th>antal_ansatte</th>\n",
       "    </tr>\n",
       "  </thead>\n",
       "  <tbody>\n",
       "    <tr>\n",
       "      <th>0</th>\n",
       "      <td>15754176</td>\n",
       "      <td>Slagelse Erhvervsforening Team Slagelse</td>\n",
       "      <td>SLAGELSE</td>\n",
       "      <td>2.0</td>\n",
       "    </tr>\n",
       "    <tr>\n",
       "      <th>1</th>\n",
       "      <td>41447281</td>\n",
       "      <td>Grundejerforeningen Hyllerupvej</td>\n",
       "      <td>SLAGELSE</td>\n",
       "      <td>NaN</td>\n",
       "    </tr>\n",
       "    <tr>\n",
       "      <th>2</th>\n",
       "      <td>32331203</td>\n",
       "      <td>NETTOTELT ApS</td>\n",
       "      <td>SLAGELSE</td>\n",
       "      <td>1.0</td>\n",
       "    </tr>\n",
       "    <tr>\n",
       "      <th>3</th>\n",
       "      <td>26476208</td>\n",
       "      <td>Handelsby.dk                      v/Brian M. L...</td>\n",
       "      <td>SLAGELSE</td>\n",
       "      <td>0.0</td>\n",
       "    </tr>\n",
       "    <tr>\n",
       "      <th>4</th>\n",
       "      <td>34232261</td>\n",
       "      <td>Gravstenen.dk v/Thomas Worm Hansen</td>\n",
       "      <td>SLAGELSE</td>\n",
       "      <td>0.0</td>\n",
       "    </tr>\n",
       "  </tbody>\n",
       "</table>\n",
       "</div>"
      ],
      "text/plain": [
       "   cvr_nummer                                               navn kommune_navn  \\\n",
       "0    15754176            Slagelse Erhvervsforening Team Slagelse     SLAGELSE   \n",
       "1    41447281                    Grundejerforeningen Hyllerupvej     SLAGELSE   \n",
       "2    32331203                                      NETTOTELT ApS     SLAGELSE   \n",
       "3    26476208  Handelsby.dk                      v/Brian M. L...     SLAGELSE   \n",
       "4    34232261                 Gravstenen.dk v/Thomas Worm Hansen     SLAGELSE   \n",
       "\n",
       "   antal_ansatte  \n",
       "0            2.0  \n",
       "1            NaN  \n",
       "2            1.0  \n",
       "3            0.0  \n",
       "4            0.0  "
      ]
     },
     "execution_count": 3,
     "metadata": {},
     "output_type": "execute_result"
    }
   ],
   "source": [
    "df.head()"
   ]
  },
  {
   "cell_type": "code",
   "execution_count": 7,
   "metadata": {},
   "outputs": [
    {
     "data": {
      "text/plain": [
       "-3004"
      ]
     },
     "execution_count": 7,
     "metadata": {},
     "output_type": "execute_result"
    }
   ],
   "source": [
    "sum(df.duplicated()) - df.shape[0]"
   ]
  },
  {
   "cell_type": "code",
   "execution_count": 8,
   "metadata": {},
   "outputs": [],
   "source": [
    "df_2 = pd.read_csv('final_2_output.csv')"
   ]
  },
  {
   "cell_type": "code",
   "execution_count": 9,
   "metadata": {},
   "outputs": [
    {
     "data": {
      "text/html": [
       "<div>\n",
       "<style scoped>\n",
       "    .dataframe tbody tr th:only-of-type {\n",
       "        vertical-align: middle;\n",
       "    }\n",
       "\n",
       "    .dataframe tbody tr th {\n",
       "        vertical-align: top;\n",
       "    }\n",
       "\n",
       "    .dataframe thead th {\n",
       "        text-align: right;\n",
       "    }\n",
       "</style>\n",
       "<table border=\"1\" class=\"dataframe\">\n",
       "  <thead>\n",
       "    <tr style=\"text-align: right;\">\n",
       "      <th></th>\n",
       "      <th>cvr_nummer</th>\n",
       "      <th>navn</th>\n",
       "      <th>kommune_navn</th>\n",
       "      <th>antal_ansatte</th>\n",
       "    </tr>\n",
       "  </thead>\n",
       "  <tbody>\n",
       "    <tr>\n",
       "      <th>0</th>\n",
       "      <td>15754176</td>\n",
       "      <td>Slagelse Erhvervsforening Team Slagelse</td>\n",
       "      <td>SLAGELSE</td>\n",
       "      <td>2.0</td>\n",
       "    </tr>\n",
       "    <tr>\n",
       "      <th>1</th>\n",
       "      <td>41447281</td>\n",
       "      <td>Grundejerforeningen Hyllerupvej</td>\n",
       "      <td>SLAGELSE</td>\n",
       "      <td>NaN</td>\n",
       "    </tr>\n",
       "    <tr>\n",
       "      <th>2</th>\n",
       "      <td>32331203</td>\n",
       "      <td>NETTOTELT ApS</td>\n",
       "      <td>SLAGELSE</td>\n",
       "      <td>1.0</td>\n",
       "    </tr>\n",
       "    <tr>\n",
       "      <th>3</th>\n",
       "      <td>26476208</td>\n",
       "      <td>Handelsby.dk                      v/Brian M. L...</td>\n",
       "      <td>SLAGELSE</td>\n",
       "      <td>0.0</td>\n",
       "    </tr>\n",
       "    <tr>\n",
       "      <th>4</th>\n",
       "      <td>34232261</td>\n",
       "      <td>Gravstenen.dk v/Thomas Worm Hansen</td>\n",
       "      <td>SLAGELSE</td>\n",
       "      <td>0.0</td>\n",
       "    </tr>\n",
       "  </tbody>\n",
       "</table>\n",
       "</div>"
      ],
      "text/plain": [
       "   cvr_nummer                                               navn kommune_navn  \\\n",
       "0    15754176            Slagelse Erhvervsforening Team Slagelse     SLAGELSE   \n",
       "1    41447281                    Grundejerforeningen Hyllerupvej     SLAGELSE   \n",
       "2    32331203                                      NETTOTELT ApS     SLAGELSE   \n",
       "3    26476208  Handelsby.dk                      v/Brian M. L...     SLAGELSE   \n",
       "4    34232261                 Gravstenen.dk v/Thomas Worm Hansen     SLAGELSE   \n",
       "\n",
       "   antal_ansatte  \n",
       "0            2.0  \n",
       "1            NaN  \n",
       "2            1.0  \n",
       "3            0.0  \n",
       "4            0.0  "
      ]
     },
     "execution_count": 9,
     "metadata": {},
     "output_type": "execute_result"
    }
   ],
   "source": [
    "df_2.head()"
   ]
  },
  {
   "cell_type": "code",
   "execution_count": 10,
   "metadata": {},
   "outputs": [
    {
     "data": {
      "text/plain": [
       "(152000, 4)"
      ]
     },
     "execution_count": 10,
     "metadata": {},
     "output_type": "execute_result"
    }
   ],
   "source": [
    "df_2.shape"
   ]
  },
  {
   "cell_type": "code",
   "execution_count": 11,
   "metadata": {},
   "outputs": [
    {
     "data": {
      "text/plain": [
       "-3004"
      ]
     },
     "execution_count": 11,
     "metadata": {},
     "output_type": "execute_result"
    }
   ],
   "source": [
    "sum(df_2.duplicated()) - df_2.shape[0]"
   ]
  }
 ],
 "metadata": {
  "kernelspec": {
   "display_name": "Python 3",
   "language": "python",
   "name": "python3"
  },
  "language_info": {
   "codemirror_mode": {
    "name": "ipython",
    "version": 3
   },
   "file_extension": ".py",
   "mimetype": "text/x-python",
   "name": "python",
   "nbconvert_exporter": "python",
   "pygments_lexer": "ipython3",
   "version": "3.12.3"
  }
 },
 "nbformat": 4,
 "nbformat_minor": 2
}

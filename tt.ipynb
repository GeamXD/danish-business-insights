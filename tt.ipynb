{
 "cells": [
  {
   "cell_type": "code",
   "execution_count": 1,
   "metadata": {},
   "outputs": [],
   "source": [
    "import pandas as pd"
   ]
  },
  {
   "cell_type": "code",
   "execution_count": 2,
   "metadata": {},
   "outputs": [],
   "source": [
    "df =  pd.read_csv('slagelse_data.csv')"
   ]
  },
  {
   "cell_type": "code",
   "execution_count": 3,
   "metadata": {},
   "outputs": [
    {
     "data": {
      "text/html": [
       "<div>\n",
       "<style scoped>\n",
       "    .dataframe tbody tr th:only-of-type {\n",
       "        vertical-align: middle;\n",
       "    }\n",
       "\n",
       "    .dataframe tbody tr th {\n",
       "        vertical-align: top;\n",
       "    }\n",
       "\n",
       "    .dataframe thead th {\n",
       "        text-align: right;\n",
       "    }\n",
       "</style>\n",
       "<table border=\"1\" class=\"dataframe\">\n",
       "  <thead>\n",
       "    <tr style=\"text-align: right;\">\n",
       "      <th></th>\n",
       "      <th>CVR Nummer</th>\n",
       "      <th>Navn</th>\n",
       "      <th>Kommune Navn</th>\n",
       "    </tr>\n",
       "  </thead>\n",
       "  <tbody>\n",
       "    <tr>\n",
       "      <th>0</th>\n",
       "      <td>15754176</td>\n",
       "      <td>Slagelse Erhvervsforening Team Slagelse</td>\n",
       "      <td>SLAGELSE</td>\n",
       "    </tr>\n",
       "    <tr>\n",
       "      <th>1</th>\n",
       "      <td>34232261</td>\n",
       "      <td>Gravstenen.dk v/Thomas Worm Hansen</td>\n",
       "      <td>SLAGELSE</td>\n",
       "    </tr>\n",
       "    <tr>\n",
       "      <th>2</th>\n",
       "      <td>41447281</td>\n",
       "      <td>Grundejerforeningen Hyllerupvej</td>\n",
       "      <td>SLAGELSE</td>\n",
       "    </tr>\n",
       "    <tr>\n",
       "      <th>3</th>\n",
       "      <td>32331203</td>\n",
       "      <td>NETTOTELT ApS</td>\n",
       "      <td>SLAGELSE</td>\n",
       "    </tr>\n",
       "    <tr>\n",
       "      <th>4</th>\n",
       "      <td>26476208</td>\n",
       "      <td>Handelsby.dk                      v/Brian M. L...</td>\n",
       "      <td>SLAGELSE</td>\n",
       "    </tr>\n",
       "  </tbody>\n",
       "</table>\n",
       "</div>"
      ],
      "text/plain": [
       "   CVR Nummer                                               Navn Kommune Navn\n",
       "0    15754176            Slagelse Erhvervsforening Team Slagelse     SLAGELSE\n",
       "1    34232261                 Gravstenen.dk v/Thomas Worm Hansen     SLAGELSE\n",
       "2    41447281                    Grundejerforeningen Hyllerupvej     SLAGELSE\n",
       "3    32331203                                      NETTOTELT ApS     SLAGELSE\n",
       "4    26476208  Handelsby.dk                      v/Brian M. L...     SLAGELSE"
      ]
     },
     "execution_count": 3,
     "metadata": {},
     "output_type": "execute_result"
    }
   ],
   "source": [
    "df.head()"
   ]
  },
  {
   "cell_type": "code",
   "execution_count": 6,
   "metadata": {},
   "outputs": [
    {
     "data": {
      "text/html": [
       "<div>\n",
       "<style scoped>\n",
       "    .dataframe tbody tr th:only-of-type {\n",
       "        vertical-align: middle;\n",
       "    }\n",
       "\n",
       "    .dataframe tbody tr th {\n",
       "        vertical-align: top;\n",
       "    }\n",
       "\n",
       "    .dataframe thead th {\n",
       "        text-align: right;\n",
       "    }\n",
       "</style>\n",
       "<table border=\"1\" class=\"dataframe\">\n",
       "  <thead>\n",
       "    <tr style=\"text-align: right;\">\n",
       "      <th></th>\n",
       "      <th>CVR Nummer</th>\n",
       "      <th>Navn</th>\n",
       "      <th>Kommune Navn</th>\n",
       "    </tr>\n",
       "  </thead>\n",
       "  <tbody>\n",
       "    <tr>\n",
       "      <th>1006</th>\n",
       "      <td>32857191</td>\n",
       "      <td>Addina v/Michal Pentti Lorentsen</td>\n",
       "      <td>SLAGELSE</td>\n",
       "    </tr>\n",
       "    <tr>\n",
       "      <th>1007</th>\n",
       "      <td>34076316</td>\n",
       "      <td>JOSK ApS</td>\n",
       "      <td>SLAGELSE</td>\n",
       "    </tr>\n",
       "    <tr>\n",
       "      <th>1008</th>\n",
       "      <td>37280283</td>\n",
       "      <td>Nifingers Gospel Magic &amp; Events</td>\n",
       "      <td>SLAGELSE</td>\n",
       "    </tr>\n",
       "    <tr>\n",
       "      <th>1009</th>\n",
       "      <td>34744483</td>\n",
       "      <td>Ars Nova-koret</td>\n",
       "      <td>SLAGELSE</td>\n",
       "    </tr>\n",
       "    <tr>\n",
       "      <th>1010</th>\n",
       "      <td>37511994</td>\n",
       "      <td>Korsør Nor Inner Wheel</td>\n",
       "      <td>SLAGELSE</td>\n",
       "    </tr>\n",
       "  </tbody>\n",
       "</table>\n",
       "</div>"
      ],
      "text/plain": [
       "      CVR Nummer                              Navn Kommune Navn\n",
       "1006    32857191  Addina v/Michal Pentti Lorentsen     SLAGELSE\n",
       "1007    34076316                          JOSK ApS     SLAGELSE\n",
       "1008    37280283   Nifingers Gospel Magic & Events     SLAGELSE\n",
       "1009    34744483                    Ars Nova-koret     SLAGELSE\n",
       "1010    37511994            Korsør Nor Inner Wheel     SLAGELSE"
      ]
     },
     "execution_count": 6,
     "metadata": {},
     "output_type": "execute_result"
    }
   ],
   "source": [
    "df[df.duplicated()]"
   ]
  },
  {
   "cell_type": "code",
   "execution_count": null,
   "metadata": {},
   "outputs": [],
   "source": []
  }
 ],
 "metadata": {
  "kernelspec": {
   "display_name": "Python 3",
   "language": "python",
   "name": "python3"
  },
  "language_info": {
   "codemirror_mode": {
    "name": "ipython",
    "version": 3
   },
   "file_extension": ".py",
   "mimetype": "text/x-python",
   "name": "python",
   "nbconvert_exporter": "python",
   "pygments_lexer": "ipython3",
   "version": "3.12.3"
  }
 },
 "nbformat": 4,
 "nbformat_minor": 2
}
